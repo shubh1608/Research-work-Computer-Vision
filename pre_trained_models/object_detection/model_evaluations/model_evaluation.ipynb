{
 "cells": [
  {
   "cell_type": "code",
   "execution_count": 1,
   "metadata": {},
   "outputs": [],
   "source": [
    "import _init_paths\n",
    "from utils import *\n",
    "from BoundingBox import BoundingBox\n",
    "from BoundingBoxes import BoundingBoxes\n",
    "from Evaluator import *\n",
    "from pathlib import Path\n",
    "import pandas as pd\n",
    "import warnings\n",
    "warnings.filterwarnings('ignore')"
   ]
  },
  {
   "cell_type": "markdown",
   "metadata": {},
   "source": [
    "### Pre Processing sequence dict"
   ]
  },
  {
   "cell_type": "code",
   "execution_count": 2,
   "metadata": {},
   "outputs": [],
   "source": [
    "pre_processing_seq_dict = {\n",
    "    \"seq_0\" : [], # for raw seq\n",
    "    \"seq_1\" : [\"gray\"],\n",
    "    \"seq_2\" : [\"hsv\"],\n",
    "    \"seq_3\" : [\"sharpen\"],\n",
    "    \"seq_4\" : [\"gray\", \"bilateral_blur\", \"threshold_mean\"],\n",
    "    \"seq_5\" : [\"gray\", \"bilateral_blur\", \"threshold_gaussian\"],\n",
    "    \"seq_6\" : [\"gray\", \"bilateral_blur\", \"threshold_otsu\"],\n",
    "    \"seq_7\" : [\"median_blur\"],\n",
    "    \"seq_8\" : [\"gaussian_blur\"],\n",
    "    \"seq_9\" : [\"bilateral_blur\"],\n",
    "    \"seq_10\" : [\"fastnl_blur\"],\n",
    "    \"seq_11\" : [\"gray\", \"bilateral_blur\", \"threshold_otsu\", \"opening\"],\n",
    "    \"seq_12\" : [\"gray\", \"bilateral_blur\", \"threshold_otsu\", \"closing\"],\n",
    "    \"seq_13\" : [\"opening\"],\n",
    "    \"seq_14\" : [\"closing\"],\n",
    "    \"seq_15\" : [\"gray\", \"sobel\"],\n",
    "    \"seq_16\" : [\"gray\", \"laplacian\"],\n",
    "    \"seq_17\" : [\"gray\", \"canny\"]\n",
    "}\n",
    "\n",
    "def get_seq_name(seq_id):\n",
    "    if seq_id not in pre_processing_seq_dict.keys():\n",
    "        return \"not found for dataset id: \" + seq_id\n",
    "    return \" > \".join(get_seq_operations(seq_id))\n",
    "\n",
    "def get_seq_operations(seq_id):\n",
    "    return pre_processing_seq_dict[seq_id]"
   ]
  },
  {
   "cell_type": "markdown",
   "metadata": {},
   "source": [
    "#### Change below line to evaluate other models results"
   ]
  },
  {
   "cell_type": "code",
   "execution_count": 4,
   "metadata": {},
   "outputs": [],
   "source": [
    "ground_truth_path = Path(\"../../../dataset/object_detection/annotations/annotations.csv\")\n",
    "images_path = Path(\"../../../dataset/object_detection/images\")\n",
    "model_results_path = Path(\"../experiment_results/model_results.csv\")"
   ]
  },
  {
   "cell_type": "markdown",
   "metadata": {},
   "source": [
    "### Test the evaluation algorithms"
   ]
  },
  {
   "cell_type": "code",
   "execution_count": 5,
   "metadata": {},
   "outputs": [],
   "source": [
    "ground_truth_df = pd.read_csv(ground_truth_path)"
   ]
  },
  {
   "cell_type": "code",
   "execution_count": 6,
   "metadata": {},
   "outputs": [],
   "source": [
    "# detections_df = detections_df.sort_values([\"image_name\", \"detection_score\"])\n",
    "# detections_df.to_csv(detections_path, index=False)"
   ]
  },
  {
   "cell_type": "markdown",
   "metadata": {},
   "source": [
    "### Load Custom dataset Labels"
   ]
  },
  {
   "cell_type": "code",
   "execution_count": 7,
   "metadata": {},
   "outputs": [],
   "source": [
    "custom_dataset_labels = list(set(ground_truth_df[\"label\"]))"
   ]
  },
  {
   "cell_type": "markdown",
   "metadata": {},
   "source": [
    "#### Boxes for calculating precision"
   ]
  },
  {
   "cell_type": "code",
   "execution_count": 8,
   "metadata": {},
   "outputs": [],
   "source": [
    "def get_bboxes(detections_df_per_seq_id):\n",
    "    boxes = BoundingBoxes()\n",
    "    # first create a grnd truth boxes using ground_truth_df\n",
    "    for index, row in ground_truth_df.iterrows():\n",
    "        box = BoundingBox(imageName = row[\"image_name\"], classId=row[\"label\"], x=row[\"xmin\"], y=row[\"ymax\"],\n",
    "                          w=(row[\"xmax\"]-row[\"xmin\"]), h=(row[\"ymax\"]-row[\"ymin\"]), typeCoordinates=CoordinatesType.Absolute,\n",
    "                             bbType=BBType.GroundTruth, format=BBFormat.XYWH)\n",
    "        boxes.addBoundingBox(box)\n",
    "        \n",
    "    # then create a detection boxes using detections_df_per_seq_id\n",
    "    for index, row in detections_df_per_seq_id.iterrows():\n",
    "        box = BoundingBox(imageName = row[\"image_name\"], classId=row[\"label\"], classConfidence= row[\"detection_score\"],\n",
    "                          x=row[\"xmin\"], y=row[\"ymax\"], w=(row[\"xmax\"]-row[\"xmin\"]), h=(row[\"ymax\"]-row[\"ymin\"]), \n",
    "                          typeCoordinates=CoordinatesType.Absolute,\n",
    "                          bbType=BBType.Detected, format=BBFormat.XYWH)\n",
    "        boxes.addBoundingBox(box)\n",
    "        \n",
    "    return boxes"
   ]
  },
  {
   "cell_type": "markdown",
   "metadata": {},
   "source": [
    "#### Boxes for drawing box on images"
   ]
  },
  {
   "cell_type": "code",
   "execution_count": 9,
   "metadata": {},
   "outputs": [],
   "source": [
    "# def get_bboxes_draw(detections_df_per_seq_id):\n",
    "#     boxes = BoundingBoxes()\n",
    "#     # first create a grnd truth boxes using test_grnd\n",
    "#     for index, row in ground_truth_df.iterrows():\n",
    "#         box = BoundingBox(imageName = row[\"image_name\"], classId=row[\"label\"], x=row[\"xmin\"], y=row[\"ymax\"],\n",
    "#                           w=row[\"xmax\"], h=row[\"ymin\"], typeCoordinates=CoordinatesType.Absolute,\n",
    "#                              bbType=BBType.GroundTruth, format=BBFormat.XYX2Y2)\n",
    "#         boxes_draw.addBoundingBox(box)\n",
    "        \n",
    "#     # then create a detection boxes using test_det\n",
    "#     for index, row in detections_df.iterrows():\n",
    "#         box = BoundingBox(imageName = row[\"image_name\"], classId=row[\"label\"], classConfidence= row[\"detection_score\"],\n",
    "#                           x=row[\"xmin\"], y=row[\"ymax\"], w=row[\"xmax\"], h=row[\"ymin\"], \n",
    "#                           typeCoordinates=CoordinatesType.Absolute,\n",
    "#                           bbType=BBType.Detected, format=BBFormat.XYX2Y2)\n",
    "#         boxes_draw.addBoundingBox(box)\n",
    "        \n",
    "#     return boxes"
   ]
  },
  {
   "cell_type": "code",
   "execution_count": 10,
   "metadata": {},
   "outputs": [],
   "source": [
    "def get_metrics_per_label(boxes):\n",
    "    evaluator = Evaluator()\n",
    "    metricsPerClass = evaluator.GetPascalVOCMetrics(boxes, IOUThreshold=0.5)\n",
    "    return metricsPerClass"
   ]
  },
  {
   "cell_type": "code",
   "execution_count": 11,
   "metadata": {},
   "outputs": [],
   "source": [
    "model_results_columns = [\"model_name\", \"seq_id\", \"seq_name\", \"label\", \"ap\"]\n",
    "\n",
    "def store_metrics_in_csv(metricsPerClass, seq_id):\n",
    "    rows = []\n",
    "    for mc in metricsPerClass:\n",
    "        label = mc[\"class\"]\n",
    "        if label in custom_dataset_labels:\n",
    "            row = [model_name, seq_id, get_seq_name(seq_id), label, mc[\"AP\"]]\n",
    "            rows.append(row)\n",
    "    \n",
    "    # append mAP row for a seq_id\n",
    "    rows.append([model_name, seq_id, get_seq_name(seq_id), \"all\", calculate_mAP(metricsPerClass)])\n",
    "            \n",
    "    df = pd.DataFrame(rows, columns = model_results_columns)\n",
    "    model_results_df = load_model_results_csv()\n",
    "    model_results_df = model_results_df.append(df)\n",
    "    \n",
    "    dump_model_results_df(model_results_df)\n",
    "\n",
    "def calculate_mAP(metricsPerClass):\n",
    "    ap = [mc[\"AP\"] for mc in metricsPerClass if mc[\"class\"] in custom_dataset_labels]\n",
    "    return round(sum(ap)/len(ap), 6)\n",
    "    \n",
    "def load_model_results_csv():\n",
    "    model_results_df = None\n",
    "    # create if not exists\n",
    "    if os.path.exists(model_results_path):\n",
    "        model_results_df = pd.read_csv(model_results_path)\n",
    "    else:\n",
    "        model_results_df = pd.DataFrame(columns = model_results_columns)\n",
    "        model_results_df.to_csv(model_results_path, index=False)\n",
    "    return model_results_df\n",
    "    \n",
    "def dump_model_results_df(model_results_df):\n",
    "    model_results_df.to_csv(model_results_path, header=True, index=False)"
   ]
  },
  {
   "cell_type": "markdown",
   "metadata": {},
   "source": [
    "### RUN"
   ]
  },
  {
   "cell_type": "code",
   "execution_count": 12,
   "metadata": {},
   "outputs": [],
   "source": [
    "models = [\n",
    "#     \"efficientdet_d0_coco17_tpu-32\",\n",
    "#     \"efficientdet_d7_coco17_tpu-32\",\n",
    "#     \"faster_rcnn_resnet50_v1_640x640_coco17_tpu-8\",\n",
    "     \"faster_rcnn_inception_resnet_v2_1024x1024_coco17_tpu-8\",\n",
    "#     \"pp-yolo\",\n",
    "#     \"ssd_mobilenet_v2_320x320_coco17_tpu-8\",\n",
    "#     \"ssd_resnet50_v1_fpn_640x640_coco17_tpu-8\",\n",
    "#     \"ssd_resnet152_v1_fpn_1024x1024_coco17_tpu-8\"\n",
    "]"
   ]
  },
  {
   "cell_type": "code",
   "execution_count": 13,
   "metadata": {},
   "outputs": [
    {
     "name": "stdout",
     "output_type": "stream",
     "text": [
      "generating metrics for: faster_rcnn_inception_resnet_v2_1024x1024_coco17_tpu-8\n",
      "reading seq_id: seq_0\n",
      "reading seq_id: seq_1\n",
      "reading seq_id: seq_2\n",
      "reading seq_id: seq_3\n",
      "reading seq_id: seq_4\n",
      "reading seq_id: seq_5\n",
      "reading seq_id: seq_6\n",
      "reading seq_id: seq_7\n",
      "reading seq_id: seq_8\n",
      "reading seq_id: seq_9\n",
      "reading seq_id: seq_10\n",
      "reading seq_id: seq_11\n",
      "reading seq_id: seq_12\n",
      "reading seq_id: seq_13\n",
      "reading seq_id: seq_14\n",
      "reading seq_id: seq_15\n",
      "reading seq_id: seq_16\n",
      "reading seq_id: seq_17\n",
      "Completed!!!\n"
     ]
    }
   ],
   "source": [
    "warnings.filterwarnings('ignore')\n",
    "\n",
    "for model_name in models:\n",
    "    detections_path = Path(\"../experiment_results/final_results/\"+model_name+\".csv\")\n",
    "    detections_df = pd.read_csv(detections_path)\n",
    "\n",
    "    # note in below df, we have processing_seq_name, but it is actually a seq_id\n",
    "    df_group = detections_df.groupby(\"processing_seq_name\")\n",
    "    print(\"generating metrics for: {0}\".format(model_name))\n",
    "    for seq_id in pre_processing_seq_dict.keys():\n",
    "        print(\"reading seq_id: {0}\".format(seq_id))\n",
    "        per_seq_id_results = df_group.get_group(seq_id)\n",
    "        boxes = get_bboxes(per_seq_id_results)\n",
    "        metrics_per_label = get_metrics_per_label(boxes)\n",
    "        store_metrics_in_csv(metrics_per_label, seq_id)\n",
    "    print(\"Completed!!!\")"
   ]
  },
  {
   "cell_type": "markdown",
   "metadata": {},
   "source": [
    "### Below code is for drawing boxes on images\n",
    "* uncomment it for execution"
   ]
  },
  {
   "cell_type": "code",
   "execution_count": 13,
   "metadata": {},
   "outputs": [],
   "source": [
    "# import cv2\n",
    "# import numpy as np\n",
    "# import os\n",
    "# for image_name in list(set(ground_truth_df[\"image_name\"])):\n",
    "#     im = cv2.imread('../../../dataset/object_detection/images/'+image_name)\n",
    "#     # Add bounding boxes\n",
    "#     im = boxes_draw.drawAllBoundingBoxes(im, image_name)\n",
    "#     # Uncomment the lines below if you want to show the images\n",
    "#     #cv2.imshow(imageName+'.jpg', im)\n",
    "#     #cv2.waitKey(0)\n",
    "#     cv2.imwrite('../../../dataset/object_detection/annotated_images/'+image_name,im)\n",
    "#     print('Image %s created successfully!' % image_name)"
   ]
  },
  {
   "cell_type": "code",
   "execution_count": null,
   "metadata": {},
   "outputs": [],
   "source": []
  }
 ],
 "metadata": {
  "kernelspec": {
   "display_name": "Python 3",
   "language": "python",
   "name": "python3"
  },
  "language_info": {
   "codemirror_mode": {
    "name": "ipython",
    "version": 3
   },
   "file_extension": ".py",
   "mimetype": "text/x-python",
   "name": "python",
   "nbconvert_exporter": "python",
   "pygments_lexer": "ipython3",
   "version": "3.7.6"
  }
 },
 "nbformat": 4,
 "nbformat_minor": 4
}
